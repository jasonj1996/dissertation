{
 "cells": [
  {
   "cell_type": "code",
   "execution_count": 14,
   "metadata": {},
   "outputs": [],
   "source": [
    "import pandas as pd\n",
    "from pandas import Series, DataFrame\n",
    "import numpy as np\n",
    "import seaborn as sns\n",
    "import matplotlib.pyplot as plt \n",
    "import matplotlib as mpl\n",
    "import re\n",
    "from textblob import TextBlob\n",
    "from sklearn.model_selection import train_test_split\n",
    "from xgboost import XGBClassifier\n",
    "from sklearn.linear_model import LogisticRegression,SGDClassifier\n",
    "from sklearn.feature_extraction.text import TfidfVectorizer\n",
    "from sklearn.ensemble import RandomForestClassifier\n",
    "from sklearn.neighbors import KNeighborsClassifier\n",
    "from sklearn.svm import LinearSVC\n",
    "from sklearn.metrics import f1_score\n",
    "from sklearn.naive_bayes import MultinomialNB\n",
    "from sklearn.model_selection import GridSearchCV\n",
    "from sklearn.svm import SVC\n",
    "from sklearn.metrics import classification_report,confusion_matrix,accuracy_score\n",
    "from sklearn import model_selection, preprocessing, linear_model, naive_bayes, metrics, svm\n",
    "from sklearn.feature_extraction.text import TfidfVectorizer, CountVectorizer\n",
    "from sklearn import decomposition, ensemble\n",
    "import pandas, xgboost, numpy, textblob, string\n",
    "from keras.preprocessing import text, sequence\n",
    "from keras import layers, models, optimizers\n",
    "import warnings\n",
    "warnings.filterwarnings(\"ignore\")\n",
    "\n",
    "%matplotlib inline"
   ]
  },
  {
   "cell_type": "code",
   "execution_count": null,
   "metadata": {},
   "outputs": [],
   "source": []
  },
  {
   "cell_type": "code",
   "execution_count": 15,
   "metadata": {
    "scrolled": true
   },
   "outputs": [
    {
     "name": "stdout",
     "output_type": "stream",
     "text": [
      "rows: 239850\n"
     ]
    }
   ],
   "source": [
    "feature_df = pd.read_csv('./cleaned_csv/feature_df.csv',low_memory=False)\n",
    "print('rows:',len(feature_df))"
   ]
  },
  {
   "cell_type": "code",
   "execution_count": 16,
   "metadata": {},
   "outputs": [],
   "source": [
    "feature_df.dropna(inplace = True)"
   ]
  },
  {
   "cell_type": "code",
   "execution_count": null,
   "metadata": {},
   "outputs": [],
   "source": []
  },
  {
   "cell_type": "code",
   "execution_count": 17,
   "metadata": {},
   "outputs": [
    {
     "data": {
      "text/html": [
       "<div>\n",
       "<style scoped>\n",
       "    .dataframe tbody tr th:only-of-type {\n",
       "        vertical-align: middle;\n",
       "    }\n",
       "\n",
       "    .dataframe tbody tr th {\n",
       "        vertical-align: top;\n",
       "    }\n",
       "\n",
       "    .dataframe thead th {\n",
       "        text-align: right;\n",
       "    }\n",
       "</style>\n",
       "<table border=\"1\" class=\"dataframe\">\n",
       "  <thead>\n",
       "    <tr style=\"text-align: right;\">\n",
       "      <th></th>\n",
       "      <th>sentiment</th>\n",
       "      <th>cleaned_text</th>\n",
       "      <th>original_word_count</th>\n",
       "      <th>original_average_word_length</th>\n",
       "      <th>stopword_ratio</th>\n",
       "    </tr>\n",
       "  </thead>\n",
       "  <tbody>\n",
       "    <tr>\n",
       "      <th>0</th>\n",
       "      <td>Neutral</td>\n",
       "      <td>big group make reservation week advance</td>\n",
       "      <td>0.12037</td>\n",
       "      <td>0.055914</td>\n",
       "      <td>0.533333</td>\n",
       "    </tr>\n",
       "  </tbody>\n",
       "</table>\n",
       "</div>"
      ],
      "text/plain": [
       "  sentiment                             cleaned_text  original_word_count  \\\n",
       "0   Neutral  big group make reservation week advance              0.12037   \n",
       "\n",
       "   original_average_word_length  stopword_ratio  \n",
       "0                      0.055914        0.533333  "
      ]
     },
     "execution_count": 17,
     "metadata": {},
     "output_type": "execute_result"
    }
   ],
   "source": [
    "feature_df.head(1)"
   ]
  },
  {
   "cell_type": "code",
   "execution_count": 18,
   "metadata": {},
   "outputs": [
    {
     "name": "stdout",
     "output_type": "stream",
     "text": [
      "rows: 79940\n"
     ]
    }
   ],
   "source": [
    "feature_df_bad = feature_df[feature_df.sentiment ==\"Poor\"]\n",
    "print('rows:',len(feature_df_bad))"
   ]
  },
  {
   "cell_type": "code",
   "execution_count": null,
   "metadata": {},
   "outputs": [],
   "source": []
  },
  {
   "cell_type": "code",
   "execution_count": 19,
   "metadata": {},
   "outputs": [
    {
     "name": "stdout",
     "output_type": "stream",
     "text": [
      "rows: 79948\n"
     ]
    }
   ],
   "source": [
    "feature_df_good = feature_df[feature_df.sentiment ==\"Good\"]\n",
    "print('rows:',len(feature_df_good))"
   ]
  },
  {
   "cell_type": "markdown",
   "metadata": {},
   "source": [
    "## Topic Modelling"
   ]
  },
  {
   "cell_type": "markdown",
   "metadata": {},
   "source": [
    "How to interpret this graph?\n",
    "Topics on the left while their respective keywords are on the right.\n",
    "Larger topics are more frequent and closer the topics, mor the similarity\n",
    "Selection of keywords is based on their frequency and discriminancy.\n",
    "Hover over the topics on the left to get information about their keywords on the right."
   ]
  },
  {
   "cell_type": "markdown",
   "metadata": {},
   "source": [
    "Reference: https://www.kaggle.com/thebrownviking20/topic-modelling-with-spacy-and-scikit-learn"
   ]
  },
  {
   "cell_type": "code",
   "execution_count": null,
   "metadata": {},
   "outputs": [],
   "source": []
  },
  {
   "cell_type": "code",
   "execution_count": null,
   "metadata": {},
   "outputs": [],
   "source": []
  },
  {
   "cell_type": "code",
   "execution_count": 20,
   "metadata": {},
   "outputs": [],
   "source": [
    "#ngram for bad reviews"
   ]
  },
  {
   "cell_type": "code",
   "execution_count": 21,
   "metadata": {},
   "outputs": [],
   "source": [
    "def spacy_bigram_tokenizer(phrase):\n",
    "    doc = parser(phrase) # create spacy object\n",
    "    token_not_noun = []\n",
    "    notnoun_noun_list = []\n",
    "    noun = \"\"\n",
    "\n",
    "    for item in doc:\n",
    "        if item.pos_ != \"NOUN\": # separate nouns and not nouns\n",
    "            token_not_noun.append(item.text)\n",
    "        if item.pos_ == \"NOUN\":\n",
    "            noun = item.text\n",
    "        \n",
    "        for notnoun in token_not_noun:\n",
    "            notnoun_noun_list.append(notnoun + \" \" + noun)\n",
    "\n",
    "    return \" \".join([i for i in notnoun_noun_list])"
   ]
  },
  {
   "cell_type": "code",
   "execution_count": 22,
   "metadata": {},
   "outputs": [],
   "source": [
    "NUM_TOPICS = 10"
   ]
  },
  {
   "cell_type": "code",
   "execution_count": 23,
   "metadata": {},
   "outputs": [],
   "source": [
    "# Functions for printing keywords for each topic\n",
    "def selected_topics(model, vectorizer, top_n=10):\n",
    "    for idx, topic in enumerate(model.components_):\n",
    "        print(\"Topic %d:\" % (idx))\n",
    "        print([(vectorizer.get_feature_names()[i], topic[i])\n",
    "                        for i in topic.argsort()[:-top_n - 1:-1]]) "
   ]
  },
  {
   "cell_type": "code",
   "execution_count": 24,
   "metadata": {},
   "outputs": [],
   "source": [
    "bivectorizer = CountVectorizer(min_df=3, max_df=0.9, stop_words='english', lowercase=True, ngram_range=(2,3))\n",
    "bigram_vectorized = bivectorizer.fit_transform(feature_df_bad[\"cleaned_text\"])"
   ]
  },
  {
   "cell_type": "code",
   "execution_count": 25,
   "metadata": {},
   "outputs": [
    {
     "name": "stdout",
     "output_type": "stream",
     "text": [
      "iteration: 1 of max_iter: 20\n",
      "iteration: 2 of max_iter: 20\n",
      "iteration: 3 of max_iter: 20\n",
      "iteration: 4 of max_iter: 20\n",
      "iteration: 5 of max_iter: 20\n",
      "iteration: 6 of max_iter: 20\n",
      "iteration: 7 of max_iter: 20\n",
      "iteration: 8 of max_iter: 20\n",
      "iteration: 9 of max_iter: 20\n",
      "iteration: 10 of max_iter: 20\n",
      "iteration: 11 of max_iter: 20\n",
      "iteration: 12 of max_iter: 20\n",
      "iteration: 13 of max_iter: 20\n",
      "iteration: 14 of max_iter: 20\n",
      "iteration: 15 of max_iter: 20\n",
      "iteration: 16 of max_iter: 20\n",
      "iteration: 17 of max_iter: 20\n",
      "iteration: 18 of max_iter: 20\n",
      "iteration: 19 of max_iter: 20\n",
      "iteration: 20 of max_iter: 20\n"
     ]
    }
   ],
   "source": [
    "from sklearn.decomposition import NMF, LatentDirichletAllocation, TruncatedSVD\n",
    "\n",
    "\n",
    "bi_lda = LatentDirichletAllocation(n_components=NUM_TOPICS, max_iter=20, learning_method='online',verbose=True)\n",
    "data_bi_lda = bi_lda.fit_transform(bigram_vectorized)"
   ]
  },
  {
   "cell_type": "code",
   "execution_count": null,
   "metadata": {},
   "outputs": [],
   "source": []
  },
  {
   "cell_type": "code",
   "execution_count": 26,
   "metadata": {},
   "outputs": [
    {
     "name": "stdout",
     "output_type": "stream",
     "text": [
      "Bi-LDA Model:\n",
      "Topic 0:\n",
      "[('long line', 516.4610457214435), ('bloody mary', 495.37917246405675), ('service terrible', 375.76532957285036), ('wait long', 263.2725901360335), ('food average', 187.78675924389984), ('spicy chicken', 177.36246770114428), ('prepare wait', 173.62386966146525), ('order food', 153.33269437373704), ('service rude', 149.17373808296813), ('wait food', 143.98352432173772)]\n",
      "Topic 1:\n",
      "[('wont disappoint', 448.74032076832634), ('park lot', 397.77537755070813), ('chicken salad', 291.00915963266897), ('service suck', 286.5033606424176), ('order chicken', 204.3091743927404), ('terrible food', 194.04745781466238), ('mac cheese', 186.36238035923873), ('secret menu', 174.8622765452566), ('dirty din', 151.9775924013386), ('ice cold', 131.9869479119521)]\n",
      "Topic 2:\n",
      "[('bad service', 763.3983120905232), ('service slow', 537.6612987767351), ('terrible service', 505.48345100332176), ('taste like', 493.8378911855421), ('food service', 342.3640262675626), ('chicken wing', 313.76034961995117), ('place suck', 298.323393139787), ('bad food', 271.0885138377019), ('really bad', 214.33396021587524), ('horrible food', 207.08252147959348)]\n",
      "Topic 3:\n",
      "[('half price', 413.89486476343495), ('chicken waffle', 372.72701314477143), ('good food', 263.9380869778213), ('15 minute', 230.03537450478103), ('wait hour', 198.57601627582358), ('food terrible', 195.78901982707222), ('make reservation', 188.78973829177838), ('love chicken', 184.42259690190932), ('lunch special', 132.89675421264945), ('terrible service', 127.21635246518281)]\n",
      "Topic 4:\n",
      "[('slow service', 814.6201341657184), ('customer service', 433.6070441770895), ('service food', 381.0073563061049), ('worst customer', 226.39330212586725), ('worst customer service', 220.7153233508291), ('dont bother', 203.96106502164673), ('love place', 180.18876899722449), ('dont want', 166.76384402884636), ('10 minute', 160.490020584148), ('hide gem', 159.10201881739223)]\n",
      "Topic 5:\n",
      "[('poor service', 437.05201055077947), ('service horrible', 415.31458007464), ('stay away', 329.08342036132404), ('fry rice', 233.00997435735565), ('food bad', 218.9532007616844), ('mediocre food', 206.42830622415082), ('quality food', 157.49683910796608), ('food ok', 157.1840540902596), ('dont like', 154.63534240406665), ('worst food', 145.16200196137706)]\n",
      "Topic 6:\n",
      "[('late night', 559.1651874815511), ('worst service', 532.0728126420129), ('food good', 423.62815591442296), ('service bad', 336.1589656789085), ('close sunday', 315.3583848129161), ('look like', 291.60397883765137), ('long time', 286.4098858881069), ('dont know', 268.7010309625579), ('chicken fry', 223.38009990543543), ('dont eat', 221.35284806971842)]\n",
      "Topic 7:\n",
      "[('horrible service', 705.6210031954801), ('waste time', 466.4832066534473), ('ice cream', 401.111032650264), ('dont waste', 373.5648289820497), ('dont waste time', 304.57272239891086), ('20 minute', 276.48149380673783), ('close monday', 255.63479570507005), ('30 minute', 235.7461094314083), ('minute wait', 171.5191092155177), ('make sure', 169.5880720416354)]\n",
      "Topic 8:\n",
      "[('customer service', 985.2856288462948), ('long wait', 571.5081514830429), ('green tea', 382.1332667122758), ('wait time', 351.8029111466745), ('dont order', 272.66609822285204), ('food horrible', 217.98488063965115), ('horrible customer', 214.98352875003243), ('horrible customer service', 211.33123830003376), ('place close', 194.27137712749175), ('open late', 170.73968781111108)]\n",
      "Topic 9:\n",
      "[('fry chicken', 602.9850092199878), ('chicken sandwich', 303.3532392776347), ('waste money', 300.44886689052805), ('order wrong', 285.52503411150747), ('food cold', 269.3578718182583), ('grill chicken', 216.0951103202093), ('30 min', 167.61989038250886), ('smell like', 165.4828501778919), ('cold food', 160.06283495733817), ('line long', 157.94733043700626)]\n"
     ]
    }
   ],
   "source": [
    "print(\"Bi-LDA Model:\")\n",
    "selected_topics(bi_lda, bivectorizer)"
   ]
  },
  {
   "cell_type": "code",
   "execution_count": null,
   "metadata": {},
   "outputs": [],
   "source": []
  },
  {
   "cell_type": "code",
   "execution_count": null,
   "metadata": {},
   "outputs": [],
   "source": []
  },
  {
   "cell_type": "code",
   "execution_count": null,
   "metadata": {},
   "outputs": [],
   "source": [
    " "
   ]
  },
  {
   "cell_type": "code",
   "execution_count": 27,
   "metadata": {},
   "outputs": [
    {
     "data": {
      "text/html": [
       "\n",
       "<link rel=\"stylesheet\" type=\"text/css\" href=\"https://cdn.rawgit.com/bmabey/pyLDAvis/files/ldavis.v1.0.0.css\">\n",
       "\n",
       "\n",
       "<div id=\"ldavis_el1520012492917367841523809130\"></div>\n",
       "<script type=\"text/javascript\">\n",
       "\n",
       "var ldavis_el1520012492917367841523809130_data = {\"mdsDat\": {\"x\": [32.42095184326172, 0.648955225944519, 71.01968383789062, 3.7859814167022705, -42.666500091552734, -3.6216893196105957, -3.632401704788208, -36.58440017700195, 44.391380310058594, 40.235809326171875], \"y\": [8.115229606628418, 71.70709991455078, 9.971006393432617, 33.18513488769531, -9.22206974029541, -43.52651596069336, -4.171707630157471, 35.804412841796875, 50.61538314819336, -31.591665267944336], \"topics\": [1, 2, 3, 4, 5, 6, 7, 8, 9, 10], \"cluster\": [1, 1, 1, 1, 1, 1, 1, 1, 1, 1], \"Freq\": [10.38102967988114, 10.123143371524895, 10.102106039344266, 10.032280819755892, 10.021027297507155, 9.975800949431767, 9.975207576863939, 9.944024010859026, 9.753966509258664, 9.691413745573252]}, \"tinfo\": {\"Term\": [\"customer service\", \"slow service\", \"bad service\", \"horrible service\", \"fry chicken\", \"long wait\", \"late night\", \"service slow\", \"worst service\", \"long line\", \"terrible service\", \"taste like\", \"bloody mary\", \"waste time\", \"wont disappoint\", \"poor service\", \"food good\", \"service horrible\", \"half price\", \"ice cream\", \"park lot\", \"service food\", \"dont waste\", \"green tea\", \"chicken waffle\", \"service terrible\", \"wait time\", \"food service\", \"service bad\", \"stay away\", \"long wait\", \"green tea\", \"wait time\", \"dont order\", \"food horrible\", \"horrible customer\", \"horrible customer service\", \"place close\", \"open late\", \"service awful\", \"buffalo chicken\", \"pad thai\", \"la vega\", \"food poison\", \"poor customer\", \"poor customer service\", \"bad attitude\", \"military discount\", \"terrible customer\", \"service poor\", \"staff rude\", \"say open\", \"terrible customer service\", \"say close\", \"15 min\", \"extremely rude\", \"avoid place\", \"mess order\", \"half half\", \"place eat\", \"customer service\", \"small portion\", \"food mediocre\", \"slow service\", \"service food\", \"worst customer\", \"worst customer service\", \"dont bother\", \"love place\", \"dont want\", \"10 minute\", \"hide gem\", \"half hour\", \"bad customer\", \"bad customer service\", \"dont afraid\", \"extremely slow\", \"great food\", \"food bland\", \"friday night\", \"dont forget\", \"food decent\", \"sit bar\", \"lunch time\", \"10 min\", \"small place\", \"people work\", \"service mediocre\", \"food awful\", \"food dont\", \"way long\", \"french toast\", \"little slow\", \"customer service\", \"horrible service\", \"waste time\", \"ice cream\", \"dont waste time\", \"20 minute\", \"close monday\", \"30 minute\", \"minute wait\", \"make sure\", \"time money\", \"bbq chicken\", \"place order\", \"waste time money\", \"jerk chicken\", \"worth price\", \"wait 30\", \"min wait\", \"slow slow\", \"worth money\", \"24 hour\", \"really slow\", \"location close\", \"second time\", \"recommend place\", \"bottle wine\", \"hour half\", \"food worth\", \"hour close\", \"food court\", \"theyre open\", \"dont waste\", \"bad service\", \"service slow\", \"taste like\", \"food service\", \"chicken wing\", \"place suck\", \"bad food\", \"really bad\", \"horrible food\", \"bad experience\", \"rude staff\", \"little bite\", \"wait line\", \"average food\", \"fast food\", \"save money\", \"food taste\", \"chicken tender\", \"time food\", \"service really\", \"slow food\", \"chicken breast\", \"butter chicken\", \"dont care\", \"food suck\", \"really good\", \"chicken wrap\", \"din room\", \"great service\", \"food place\", \"terrible service\", \"late night\", \"worst service\", \"food good\", \"service bad\", \"close sunday\", \"look like\", \"long time\", \"dont know\", \"chicken fry\", \"dont eat\", \"good service\", \"credit card\", \"chicken taco\", \"feel like\", \"cold beer\", \"service dont\", \"carne asada\", \"service good\", \"worst experience\", \"food good service\", \"fry steak\", \"saturday night\", \"chicken fry steak\", \"green chili\", \"dim sum\", \"shop center\", \"service bad food\", \"chicken soup\", \"spring roll\", \"taco tuesday\", \"half price\", \"chicken waffle\", \"good food\", \"15 minute\", \"wait hour\", \"food terrible\", \"make reservation\", \"love chicken\", \"lunch special\", \"orange chicken\", \"service wait\", \"theyre close\", \"close renovation\", \"close tuesday\", \"rude service\", \"bad review\", \"bad meal\", \"like place\", \"chinese food\", \"wait 20\", \"wait table\", \"crab leg\", \"dont let\", \"wait 10\", \"expect wait\", \"40 minute\", \"hour food\", \"place small\", \"food terrible service\", \"din area\", \"terrible service\", \"poor service\", \"service horrible\", \"stay away\", \"fry rice\", \"food bad\", \"mediocre food\", \"quality food\", \"food ok\", \"dont like\", \"worst food\", \"45 minute\", \"worst place\", \"worth wait\", \"milk tea\", \"unless want\", \"place dirty\", \"highly recommend\", \"time order\", \"poor quality\", \"menu item\", \"food order\", \"avoid cost\", \"wasnt bad\", \"rude employee\", \"slow drive\", \"food price\", \"horrible experience\", \"gas station\", \"place food\", \"time wait\", \"long line\", \"bloody mary\", \"service terrible\", \"wait long\", \"food average\", \"spicy chicken\", \"prepare wait\", \"order food\", \"service rude\", \"wait food\", \"20 min\", \"awful service\", \"chicken katsu\", \"noodle soup\", \"isnt bad\", \"hour wait\", \"chicken finger\", \"wait 15\", \"taco bell\", \"crazy busy\", \"curry chicken\", \"chicken noodle\", \"check order\", \"good place\", \"chicken pizza\", \"late lunch\", \"super slow\", \"green bean\", \"chicken beef\", \"garlic chicken\", \"fry chicken\", \"chicken sandwich\", \"waste money\", \"order wrong\", \"food cold\", \"grill chicken\", \"30 min\", \"smell like\", \"cold food\", \"line long\", \"cold brew\", \"dont waste money\", \"black bean\", \"wrong order\", \"dont think\", \"dont recommend\", \"45 min\", \"limit time\", \"chicken curry\", \"chicken chicken\", \"little pricey\", \"restaurant close\", \"sick eat\", \"holy crap\", \"prime rib\", \"decent food\", \"food drink\", \"french fry\", \"salad bar\", \"service worse\", \"dont waste\", \"wont disappoint\", \"park lot\", \"chicken salad\", \"service suck\", \"order chicken\", \"terrible food\", \"mac cheese\", \"secret menu\", \"dirty din\", \"ice cold\", \"food quality\", \"mexican food\", \"food great\", \"ice tea\", \"chicken rice\", \"happy hour\", \"portion small\", \"dont expect\", \"25 minute\", \"chicken dry\", \"chicken burrito\", \"chicken shawarma\", \"cream cheese\", \"poor food\", \"charge extra\", \"hot sauce\", \"salad chicken\", \"food make\", \"fry cold\", \"chicken tikka\"], \"Freq\": [1272.0, 732.0, 682.0, 629.0, 537.0, 512.0, 498.0, 480.0, 473.0, 456.0, 565.0, 441.0, 438.0, 416.0, 395.0, 390.0, 377.0, 370.0, 370.0, 358.0, 350.0, 343.0, 454.0, 342.0, 333.0, 332.0, 315.0, 306.0, 299.0, 293.0, 511.7332825198459, 342.1653924397381, 315.00733288572707, 244.147554349623, 195.1855248607688, 192.498088731492, 189.2277966528161, 173.95225117808664, 152.8817754799531, 146.21999014358127, 141.49214473725826, 140.42029973063455, 139.48261557145923, 128.50952491538308, 127.31209961750723, 122.54423939093793, 122.14329495722617, 115.96270994356871, 115.28056606943001, 113.67463826011415, 112.01698383111045, 111.71396583827537, 110.93935222142079, 110.04928602405447, 108.07057308099013, 107.44057736037047, 105.18615036606023, 101.02206363353534, 98.501275682164, 97.44686694193011, 882.2331715842641, 131.03944947080637, 112.04729554467782, 731.8750245650559, 342.30650159608143, 203.39738315506273, 198.29614555833086, 183.24370244777896, 161.88607941939642, 149.82479234959146, 144.1882330563352, 142.94121768740982, 135.41491192925224, 119.57705352329009, 113.12738421216515, 106.40114581532954, 104.77367179758448, 103.75155189704759, 102.25097293195311, 100.09835829042002, 97.158546941813, 93.85917193987768, 93.62590237328686, 92.55795123045394, 89.07535152886305, 83.55665778809296, 83.24614057479481, 80.87994856470182, 80.30793044553013, 72.8742686808204, 71.2223169682334, 70.82649979368004, 66.68154700668536, 389.5633716857419, 629.0337924002694, 415.85170969034465, 357.5749487316282, 271.51478451554203, 246.47254232817022, 227.8885184590808, 210.1585250264523, 152.90264214125676, 151.18119729869647, 150.97562733640623, 147.75586152853157, 131.09932628890425, 118.08577647991588, 116.20163291431264, 110.77686667462366, 104.7559419815125, 104.65573826714505, 103.27188806971374, 101.7719821868496, 101.54693628635539, 99.4698744353091, 91.9102210135944, 90.84951813784194, 76.62795219729227, 75.83086096188643, 75.74629500461697, 70.84637337646795, 70.04581604012023, 69.2537554456529, 65.81935289465488, 333.0185751526422, 681.5720260611789, 480.031059720879, 440.90494661874214, 305.66709323032325, 280.1293555424783, 266.34703831991135, 242.03138085582637, 191.36017096763985, 184.88599135121964, 168.2251542629669, 159.0400315966065, 141.52177273817503, 128.49475498491262, 125.21543390982167, 111.08381878442376, 110.64339134915471, 110.5748466637829, 104.69599039021234, 102.8743824430737, 91.71885598282422, 86.485820331518, 85.96082305336141, 84.29899537192914, 82.32509026137339, 79.89141297549205, 79.12605686543615, 77.57707165633904, 77.37065066379425, 76.10091303129579, 73.51128330839813, 451.3022551717109, 497.2504263848591, 473.15791268347044, 376.7210224689256, 298.9370453654101, 280.4396532955421, 259.3155047180538, 254.69653881733984, 238.9485347218464, 198.64586066981323, 196.84308062865944, 165.7085480403702, 160.78111691559653, 144.46463294455287, 131.17699347759893, 117.90454498059846, 116.27242776323435, 109.47370536782297, 104.43584450997906, 99.63094638888343, 91.32641911910304, 86.88740772109614, 85.12826908174226, 77.94901841394255, 74.38734923803159, 72.61784657449546, 71.89220994851966, 68.50238933195256, 63.26491076750609, 62.41857054539719, 62.083017178938434, 369.27211515676254, 332.54264364623157, 235.48244722590732, 205.23484714604973, 177.16717889575324, 174.68065354552203, 168.43597713816214, 164.5396651142202, 118.56891617542226, 110.69499882786711, 109.86958209178513, 109.51307258187599, 108.07786275954606, 101.27650366831523, 94.62452550654103, 93.99537092663438, 92.95933835963335, 92.08092745781754, 91.6797056884348, 87.71818655333381, 78.03757484390582, 73.05248643753565, 65.33616758826841, 64.8824291705823, 62.87848060843366, 62.510408975551414, 58.307070074693605, 55.71867652209362, 55.454765615721634, 54.671239040524334, 113.50092875444741, 389.3354364214348, 369.9712605869775, 293.1546680770808, 207.57035288006773, 195.0482732409624, 183.89082478360882, 140.30160966842647, 140.0229739719075, 137.752526170041, 129.31346846847518, 125.82519465707844, 116.2626617754633, 113.38408982671663, 103.89664997518307, 99.09543663411588, 97.07106517766397, 96.08066847193346, 95.5138791470232, 83.16923659204564, 80.7311735220012, 78.93075815643834, 75.31894408534755, 68.78337062646105, 67.7031770765099, 66.54766841247483, 64.6316264672139, 63.365930649433864, 61.422706403323474, 60.19523229204985, 59.760758239873276, 456.1038292960798, 437.4857298264542, 331.85078943460087, 232.504731004452, 165.84069736101594, 156.63466075915005, 153.33298119159534, 135.41317324805007, 131.74026140734208, 127.15661198988106, 126.15719639153781, 125.74000597540662, 112.67241676420274, 106.42566399809989, 101.12296584838624, 99.66515945018268, 92.70152015337835, 92.37471978247848, 89.36762506981204, 88.85533962805702, 84.17611362928952, 83.78408459703827, 83.4731648615584, 81.59354683060839, 80.8396282038068, 80.8283410984093, 78.1394454241745, 77.0726536588697, 74.90616272504559, 74.71345689691947, 536.2923413914482, 269.8011003148007, 267.2179636796645, 253.94476931957806, 239.56576289764737, 192.19408593056417, 149.08042837300073, 147.17975376673772, 142.3592149331635, 140.47769407429408, 138.56354388281173, 136.55199761287307, 126.41973980926457, 100.83252970077646, 81.85798907345279, 77.30638446092136, 72.39480951143801, 71.5965820576511, 70.00133201326719, 66.93336484193304, 66.87247088686635, 66.74178207928519, 62.95867565572158, 62.037801373503186, 62.032928800023086, 59.20705056760879, 57.95756972840338, 57.802451643358395, 55.83760046336221, 55.72637936388971, 120.30636767707004, 394.97700374978774, 350.1181407576977, 256.1435213547413, 252.177559522693, 179.83101095544203, 170.79874467636319, 164.03441188422394, 153.9121288242106, 133.76924538675016, 116.17366839485886, 113.43374430935515, 111.01238234292494, 107.10576649173898, 106.53445301629219, 89.47798549859891, 88.86484540939323, 87.96630468925886, 84.05449554774869, 77.18713291583457, 71.90756915066598, 70.75957446754735, 64.67860827078289, 64.24829680119149, 60.20090818505341, 59.30894963544721, 58.131125496555136, 55.81412618338266, 54.32649999295602, 54.03667827052166, 53.30760296925306], \"Total\": [1272.0, 732.0, 682.0, 629.0, 537.0, 512.0, 498.0, 480.0, 473.0, 456.0, 565.0, 441.0, 438.0, 416.0, 395.0, 390.0, 377.0, 370.0, 370.0, 358.0, 350.0, 343.0, 454.0, 342.0, 333.0, 332.0, 315.0, 306.0, 299.0, 293.0, 512.534109115253, 342.96619637073604, 315.80816505373156, 244.94843005298875, 195.9863980509144, 193.2988869537053, 190.0285947468919, 174.7530532971965, 153.68260412431172, 147.02085397245568, 142.2929940908019, 141.22113038639463, 140.28346522668338, 129.31037032712393, 128.11289417792676, 123.34503077266052, 122.94415459319053, 116.76350198932133, 116.0813602710644, 114.47548849073368, 112.8178138322558, 112.51478910411657, 111.74014526089086, 110.85009331111146, 108.87148287863803, 108.24140076405699, 105.98699811438362, 101.82293801580039, 99.3021204072011, 98.24772332522707, 1272.507526689747, 187.30263524708874, 152.6600993209914, 732.6755500529919, 343.10701808256573, 204.19787652627966, 199.09663841821316, 184.0442330987537, 162.6866231421505, 150.6253507126082, 144.98881796145218, 143.74171295604222, 136.21544465602696, 120.37755159470422, 113.92787896971646, 107.20164981753318, 105.57418042146101, 104.55213717412728, 103.05151100590905, 100.8988913291941, 97.95912938023822, 94.65972033688155, 94.42644625284338, 93.35852460244377, 89.87590504470008, 84.35718767699261, 84.04670954371802, 81.68052506271877, 81.1084661752887, 73.67485100176842, 72.0228630578664, 71.62705606350075, 67.48204746080823, 1272.507526689747, 629.835039073011, 416.6529034745515, 358.37617134429655, 272.31596517210784, 247.27378478304144, 228.68971018692957, 210.9597476537358, 153.7038655637681, 151.98245222806253, 151.77681408521846, 148.55711332691172, 131.90061048089137, 118.88695725122916, 117.00284584733708, 111.5780868723106, 105.5571444737005, 105.45699295356911, 104.07307845153373, 102.57322504773708, 102.3481351061168, 100.27112709518005, 92.71142008943009, 91.65078973670194, 77.42922204168238, 76.63204538515497, 76.54755831339797, 71.64762778260068, 70.84704256359382, 70.0550035757316, 66.6206151812453, 454.0371989219824, 682.3731228940288, 480.83214589310506, 441.7060497887138, 306.4681910065871, 280.93045993723706, 267.14811922950275, 242.83248845934577, 192.16125438698134, 185.68707520742979, 169.02625609320341, 159.84113396028022, 142.32289434482175, 129.2959163642191, 126.01653462680272, 111.88491804348723, 111.44448368760014, 111.37592923806257, 105.49708360022139, 103.67558427232208, 92.51993347878103, 87.28688862194775, 86.76191285878767, 85.10006174820445, 83.12621798568769, 80.69250904998661, 79.92718499541496, 78.37818190887936, 78.17178071187377, 76.90203542045354, 74.31242665081027, 565.5150906405707, 498.0518377506589, 473.9593607619009, 377.52247734182697, 299.73850952143323, 281.24106821106386, 260.1169828278515, 255.49798958571807, 239.75001750974715, 199.44728806236705, 197.64456256042132, 166.50997101197143, 161.58256052708379, 145.26605684451687, 131.97846533378743, 118.70601147110823, 117.07390962212237, 110.27513028945, 105.23733414400458, 100.43241280412205, 92.12781989766489, 87.68881151411931, 85.92973619573058, 78.75041491616133, 75.18876760599282, 73.41928932493157, 72.6936202452117, 69.30383484113464, 64.06636155408457, 63.220042828003464, 62.88444756047515, 370.07324597254785, 333.34377429989405, 236.2836513919464, 206.03603220151143, 177.96834786600317, 175.48180067725642, 169.23712503674741, 165.34082211585218, 119.37006992923466, 111.49616113557241, 110.67074286524303, 110.31422336287825, 108.87896810482349, 102.07760779809932, 95.42569771878243, 94.79653261096645, 93.76047967032193, 92.8820987204858, 92.48091572528979, 88.51933790036638, 78.83875285893053, 73.85363564888623, 66.13734645704189, 65.6836152358215, 63.67964755683111, 63.31159072242464, 59.10824802497332, 56.519832870039686, 56.255878091857426, 55.47243049403051, 565.5150906405707, 390.13672963693415, 370.77257798416747, 293.9559723463267, 208.37168092667574, 195.8495972666566, 184.69212846669373, 141.10289896404035, 140.82424946508237, 138.55385058849416, 130.11477091438582, 126.62652853090263, 117.06398152999945, 114.18540495537785, 104.69792142824235, 99.89678981367929, 97.87237900970389, 96.8819829820597, 96.31521577162236, 83.97050264891492, 81.53250746213303, 79.73212156908735, 76.12026917491991, 69.58467024423338, 68.50447204008914, 67.34895435770557, 65.43295309792437, 64.16728387805091, 62.22398555244001, 60.99655268017698, 60.56215376731698, 456.9058650037634, 438.2877466667676, 332.6528868179645, 233.30680586042004, 166.6427913962007, 157.43670474226099, 154.13506387840587, 136.21530912392737, 132.54234382313248, 127.95874029296532, 126.95930233670913, 126.5421210182441, 113.47448292055515, 107.22770936489626, 101.92503617726365, 100.46725184814395, 93.50357611746082, 93.17685242045705, 90.16970049144999, 89.6573656452889, 84.97816096750645, 84.58611282956896, 84.27525391716605, 82.39563276009495, 81.64168851071842, 81.6304028722089, 78.9415350966165, 77.8746896897608, 75.70820862038357, 75.51550486174798, 537.0937547892474, 270.60251338684566, 268.0193865232398, 254.74622221787058, 240.36722587727644, 192.99550586253807, 149.88194209681032, 147.98119334748816, 143.16070403890754, 141.2791089593365, 139.36493642747894, 137.3533934348476, 127.22113936920174, 101.63397939611772, 82.65948958045955, 78.10786551017765, 73.19626610913753, 72.39798672915678, 70.80275885063429, 67.73481193853512, 67.67389959017271, 67.54322844443169, 63.76009470104492, 62.83919918389319, 62.83438852723303, 60.00852810435799, 58.75901980847104, 58.60387917082401, 56.63905447159134, 56.52788271665887, 454.0371989219824, 395.77932794991113, 350.9204658468736, 256.94585221511653, 252.9799161176322, 180.6333940554731, 171.60110984606274, 164.83674343473467, 154.71444251985835, 134.57155685381517, 116.97601102197866, 114.2361181496745, 111.81473981769264, 107.90814744552006, 107.3367909939637, 90.28033546639635, 89.66718358572487, 88.76865371032312, 84.85688072231001, 77.98957465271633, 72.70994757512432, 71.56191146500444, 65.48094040396903, 65.05066002088888, 61.00326059983115, 60.111319342511486, 58.93348611636604, 56.61647198444757, 55.12889615890932, 54.8390851094697, 54.10990889451859], \"Category\": [\"Default\", \"Default\", \"Default\", \"Default\", \"Default\", \"Default\", \"Default\", \"Default\", \"Default\", \"Default\", \"Default\", \"Default\", \"Default\", \"Default\", \"Default\", \"Default\", \"Default\", \"Default\", \"Default\", \"Default\", \"Default\", \"Default\", \"Default\", \"Default\", \"Default\", \"Default\", \"Default\", \"Default\", \"Default\", \"Default\", \"Topic1\", \"Topic1\", \"Topic1\", \"Topic1\", \"Topic1\", \"Topic1\", \"Topic1\", \"Topic1\", \"Topic1\", \"Topic1\", \"Topic1\", \"Topic1\", \"Topic1\", \"Topic1\", \"Topic1\", \"Topic1\", \"Topic1\", \"Topic1\", \"Topic1\", \"Topic1\", \"Topic1\", \"Topic1\", \"Topic1\", \"Topic1\", \"Topic1\", \"Topic1\", \"Topic1\", \"Topic1\", \"Topic1\", \"Topic1\", \"Topic1\", \"Topic1\", \"Topic1\", \"Topic2\", \"Topic2\", \"Topic2\", \"Topic2\", \"Topic2\", \"Topic2\", \"Topic2\", \"Topic2\", \"Topic2\", \"Topic2\", \"Topic2\", \"Topic2\", \"Topic2\", \"Topic2\", \"Topic2\", \"Topic2\", \"Topic2\", \"Topic2\", \"Topic2\", \"Topic2\", \"Topic2\", \"Topic2\", \"Topic2\", \"Topic2\", \"Topic2\", \"Topic2\", \"Topic2\", \"Topic2\", \"Topic2\", \"Topic2\", \"Topic2\", \"Topic3\", \"Topic3\", \"Topic3\", \"Topic3\", \"Topic3\", \"Topic3\", \"Topic3\", \"Topic3\", \"Topic3\", \"Topic3\", \"Topic3\", \"Topic3\", \"Topic3\", \"Topic3\", \"Topic3\", \"Topic3\", \"Topic3\", \"Topic3\", \"Topic3\", \"Topic3\", \"Topic3\", \"Topic3\", \"Topic3\", \"Topic3\", \"Topic3\", \"Topic3\", \"Topic3\", \"Topic3\", \"Topic3\", \"Topic3\", \"Topic3\", \"Topic4\", \"Topic4\", \"Topic4\", \"Topic4\", \"Topic4\", \"Topic4\", \"Topic4\", \"Topic4\", \"Topic4\", \"Topic4\", \"Topic4\", \"Topic4\", \"Topic4\", \"Topic4\", \"Topic4\", \"Topic4\", \"Topic4\", \"Topic4\", \"Topic4\", \"Topic4\", \"Topic4\", \"Topic4\", \"Topic4\", \"Topic4\", \"Topic4\", \"Topic4\", \"Topic4\", \"Topic4\", \"Topic4\", \"Topic4\", \"Topic4\", \"Topic5\", \"Topic5\", \"Topic5\", \"Topic5\", \"Topic5\", \"Topic5\", \"Topic5\", \"Topic5\", \"Topic5\", \"Topic5\", \"Topic5\", \"Topic5\", \"Topic5\", \"Topic5\", \"Topic5\", \"Topic5\", \"Topic5\", \"Topic5\", \"Topic5\", \"Topic5\", \"Topic5\", \"Topic5\", \"Topic5\", \"Topic5\", \"Topic5\", \"Topic5\", \"Topic5\", \"Topic5\", \"Topic5\", \"Topic5\", \"Topic6\", \"Topic6\", \"Topic6\", \"Topic6\", \"Topic6\", \"Topic6\", \"Topic6\", \"Topic6\", \"Topic6\", \"Topic6\", \"Topic6\", \"Topic6\", \"Topic6\", \"Topic6\", \"Topic6\", \"Topic6\", \"Topic6\", \"Topic6\", \"Topic6\", \"Topic6\", \"Topic6\", \"Topic6\", \"Topic6\", \"Topic6\", \"Topic6\", \"Topic6\", \"Topic6\", \"Topic6\", \"Topic6\", \"Topic6\", \"Topic6\", \"Topic7\", \"Topic7\", \"Topic7\", \"Topic7\", \"Topic7\", \"Topic7\", \"Topic7\", \"Topic7\", \"Topic7\", \"Topic7\", \"Topic7\", \"Topic7\", \"Topic7\", \"Topic7\", \"Topic7\", \"Topic7\", \"Topic7\", \"Topic7\", \"Topic7\", \"Topic7\", \"Topic7\", \"Topic7\", \"Topic7\", \"Topic7\", \"Topic7\", \"Topic7\", \"Topic7\", \"Topic7\", \"Topic7\", \"Topic7\", \"Topic8\", \"Topic8\", \"Topic8\", \"Topic8\", \"Topic8\", \"Topic8\", \"Topic8\", \"Topic8\", \"Topic8\", \"Topic8\", \"Topic8\", \"Topic8\", \"Topic8\", \"Topic8\", \"Topic8\", \"Topic8\", \"Topic8\", \"Topic8\", \"Topic8\", \"Topic8\", \"Topic8\", \"Topic8\", \"Topic8\", \"Topic8\", \"Topic8\", \"Topic8\", \"Topic8\", \"Topic8\", \"Topic8\", \"Topic8\", \"Topic9\", \"Topic9\", \"Topic9\", \"Topic9\", \"Topic9\", \"Topic9\", \"Topic9\", \"Topic9\", \"Topic9\", \"Topic9\", \"Topic9\", \"Topic9\", \"Topic9\", \"Topic9\", \"Topic9\", \"Topic9\", \"Topic9\", \"Topic9\", \"Topic9\", \"Topic9\", \"Topic9\", \"Topic9\", \"Topic9\", \"Topic9\", \"Topic9\", \"Topic9\", \"Topic9\", \"Topic9\", \"Topic9\", \"Topic9\", \"Topic9\", \"Topic10\", \"Topic10\", \"Topic10\", \"Topic10\", \"Topic10\", \"Topic10\", \"Topic10\", \"Topic10\", \"Topic10\", \"Topic10\", \"Topic10\", \"Topic10\", \"Topic10\", \"Topic10\", \"Topic10\", \"Topic10\", \"Topic10\", \"Topic10\", \"Topic10\", \"Topic10\", \"Topic10\", \"Topic10\", \"Topic10\", \"Topic10\", \"Topic10\", \"Topic10\", \"Topic10\", \"Topic10\", \"Topic10\", \"Topic10\"], \"logprob\": [30.0, 29.0, 28.0, 27.0, 26.0, 25.0, 24.0, 23.0, 22.0, 21.0, 20.0, 19.0, 18.0, 17.0, 16.0, 15.0, 14.0, 13.0, 12.0, 11.0, 10.0, 9.0, 8.0, 7.0, 6.0, 5.0, 4.0, 3.0, 2.0, 1.0, -4.0315, -4.434, -4.5167, -4.7715, -4.9954, -5.0092, -5.0264, -5.1105, -5.2397, -5.2842, -5.3171, -5.3247, -5.3314, -5.4133, -5.4227, -5.4608, -5.4641, -5.5161, -5.522, -5.536, -5.5507, -5.5534, -5.5603, -5.5684, -5.5865, -5.5924, -5.6136, -5.654, -5.6792, -5.69, -3.4869, -5.3938, -5.5504, -3.6486, -4.4085, -4.929, -4.9544, -5.0333, -5.1573, -5.2347, -5.273, -5.2817, -5.3358, -5.4602, -5.5156, -5.5769, -5.5924, -5.6022, -5.6167, -5.638, -5.6678, -5.7024, -5.7049, -5.7163, -5.7547, -5.8186, -5.8224, -5.8512, -5.8583, -5.9554, -5.9784, -5.9839, -6.0442, -4.2791, -3.7979, -4.2118, -4.3627, -4.6381, -4.7348, -4.8132, -4.8942, -5.2123, -5.2236, -5.225, -5.2465, -5.3661, -5.4707, -5.4868, -5.5346, -5.5904, -5.5914, -5.6047, -5.6193, -5.6216, -5.6422, -5.7213, -5.7329, -5.9031, -5.9136, -5.9147, -5.9816, -5.9929, -6.0043, -6.0552, -4.4339, -3.7107, -4.0613, -4.1463, -4.5127, -4.5999, -4.6503, -4.7461, -4.981, -5.0154, -5.1098, -5.166, -5.2827, -5.3793, -5.4051, -5.5249, -5.5288, -5.5295, -5.5841, -5.6016, -5.7164, -5.7752, -5.7813, -5.8008, -5.8245, -5.8545, -5.8641, -5.8839, -5.8865, -5.9031, -5.9377, -4.123, -4.0249, -4.0746, -4.3025, -4.5338, -4.5977, -4.676, -4.694, -4.7578, -4.9425, -4.9516, -5.1238, -5.154, -5.261, -5.3575, -5.4641, -5.4781, -5.5383, -5.5855, -5.6326, -5.7196, -5.7694, -5.7899, -5.878, -5.9247, -5.9488, -5.9589, -6.0072, -6.0867, -6.1002, -6.1056, -4.318, -4.4227, -4.7679, -4.9053, -5.0524, -5.0665, -5.1029, -5.1263, -5.454, -5.5227, -5.5302, -5.5335, -5.5466, -5.6116, -5.6796, -5.6863, -5.6973, -5.7068, -5.7112, -5.7554, -5.8723, -5.9383, -6.05, -6.0569, -6.0883, -6.0942, -6.1638, -6.2092, -6.2139, -6.2282, -5.4977, -4.265, -4.316, -4.5487, -4.894, -4.9562, -5.0151, -5.2856, -5.2876, -5.304, -5.3672, -5.3945, -5.4736, -5.4987, -5.586, -5.6334, -5.654, -5.6643, -5.6702, -5.8086, -5.8383, -5.8609, -5.9077, -5.9985, -6.0143, -6.0315, -6.0607, -6.0805, -6.1117, -6.1318, -6.1391, -4.1036, -4.1453, -4.4216, -4.7774, -5.1153, -5.1724, -5.1937, -5.318, -5.3455, -5.3809, -5.3888, -5.3921, -5.5018, -5.5589, -5.61, -5.6245, -5.6969, -5.7005, -5.7336, -5.7393, -5.7934, -5.7981, -5.8018, -5.8246, -5.8338, -5.834, -5.8678, -5.8816, -5.9101, -5.9127, -3.9223, -4.6093, -4.6189, -4.6699, -4.7282, -4.9485, -5.2025, -5.2154, -5.2487, -5.262, -5.2757, -5.2903, -5.3674, -5.5936, -5.802, -5.8592, -5.9249, -5.936, -5.9585, -6.0033, -6.0042, -6.0062, -6.0645, -6.0793, -6.0793, -6.126, -6.1473, -6.15, -6.1846, -6.1866, -5.417, -4.2218, -4.3423, -4.6548, -4.6704, -5.0086, -5.0601, -5.1005, -5.1642, -5.3045, -5.4455, -5.4694, -5.4909, -5.5268, -5.5321, -5.7066, -5.7135, -5.7236, -5.7691, -5.8543, -5.9252, -5.9413, -6.0311, -6.0378, -6.1029, -6.1178, -6.1379, -6.1786, -6.2056, -6.2109, -6.2245], \"loglift\": [30.0, 29.0, 28.0, 27.0, 26.0, 25.0, 24.0, 23.0, 22.0, 21.0, 20.0, 19.0, 18.0, 17.0, 16.0, 15.0, 14.0, 13.0, 12.0, 11.0, 10.0, 9.0, 8.0, 7.0, 6.0, 5.0, 4.0, 3.0, 2.0, 1.0, 2.2636, 2.2629, 2.2627, 2.2619, 2.2611, 2.261, 2.261, 2.2606, 2.26, 2.2597, 2.2595, 2.2595, 2.2595, 2.259, 2.2589, 2.2587, 2.2587, 2.2583, 2.2583, 2.2582, 2.2581, 2.258, 2.258, 2.2579, 2.2578, 2.2578, 2.2576, 2.2573, 2.2571, 2.257, 1.8989, 1.908, 1.9559, 2.2893, 2.288, 2.2864, 2.2863, 2.286, 2.2854, 2.285, 2.2848, 2.2848, 2.2845, 2.2837, 2.2833, 2.2829, 2.2827, 2.2827, 2.2825, 2.2824, 2.2821, 2.2819, 2.2818, 2.2817, 2.2814, 2.2808, 2.2808, 2.2805, 2.2804, 2.2794, 2.2792, 2.2791, 2.2784, 1.1066, 2.2912, 2.2905, 2.2902, 2.2895, 2.2892, 2.2889, 2.2886, 2.2872, 2.2871, 2.2871, 2.287, 2.2863, 2.2857, 2.2856, 2.2852, 2.2848, 2.2848, 2.2847, 2.2846, 2.2846, 2.2844, 2.2837, 2.2836, 2.282, 2.2819, 2.2819, 2.2812, 2.2811, 2.2809, 2.2803, 1.9824, 2.2982, 2.2977, 2.2975, 2.2967, 2.2965, 2.2964, 2.2961, 2.2952, 2.295, 2.2946, 2.2943, 2.2937, 2.2931, 2.293, 2.2922, 2.2921, 2.2921, 2.2917, 2.2916, 2.2907, 2.2901, 2.2901, 2.2899, 2.2897, 2.2894, 2.2893, 2.2891, 2.2891, 2.2889, 2.2885, 2.0738, 2.2989, 2.2988, 2.2984, 2.2978, 2.2976, 2.2974, 2.2973, 2.2971, 2.2965, 2.2964, 2.2957, 2.2955, 2.295, 2.2944, 2.2937, 2.2936, 2.2932, 2.2928, 2.2925, 2.2917, 2.2913, 2.2911, 2.2903, 2.2898, 2.2895, 2.2894, 2.2889, 2.2879, 2.2877, 2.2877, 2.3028, 2.3026, 2.3016, 2.3011, 2.3005, 2.3004, 2.3003, 2.3002, 2.2983, 2.2978, 2.2977, 2.2977, 2.2976, 2.2971, 2.2966, 2.2965, 2.2964, 2.2963, 2.2963, 2.2959, 2.2948, 2.2941, 2.2928, 2.2927, 2.2923, 2.2923, 2.2914, 2.2907, 2.2907, 2.2905, 0.6991, 2.303, 2.3029, 2.3023, 2.3012, 2.301, 2.3007, 2.2994, 2.2994, 2.2993, 2.2989, 2.2987, 2.2982, 2.298, 2.2974, 2.297, 2.2968, 2.2968, 2.2967, 2.2955, 2.2952, 2.295, 2.2945, 2.2935, 2.2933, 2.2931, 2.2927, 2.2925, 2.2921, 2.2918, 2.2917, 2.3064, 2.3064, 2.3058, 2.3048, 2.3034, 2.3031, 2.303, 2.3023, 2.3021, 2.3019, 2.3019, 2.3018, 2.3011, 2.3007, 2.3003, 2.3002, 2.2996, 2.2996, 2.2993, 2.2992, 2.2987, 2.2987, 2.2986, 2.2984, 2.2983, 2.2983, 2.298, 2.2978, 2.2975, 2.2975, 2.326, 2.3245, 2.3245, 2.3243, 2.3242, 2.3233, 2.3221, 2.3221, 2.3219, 2.3218, 2.3217, 2.3216, 2.3212, 2.3196, 2.3178, 2.3172, 2.3165, 2.3164, 2.3161, 2.3156, 2.3156, 2.3156, 2.3148, 2.3147, 2.3147, 2.3141, 2.3138, 2.3137, 2.3132, 2.3132, 0.9994, 2.3319, 2.3316, 2.3308, 2.3308, 2.3295, 2.3292, 2.3291, 2.3287, 2.328, 2.327, 2.3269, 2.3267, 2.3265, 2.3264, 2.325, 2.3249, 2.3249, 2.3244, 2.3236, 2.3228, 2.3227, 2.3216, 2.3215, 2.3207, 2.3205, 2.3202, 2.3197, 2.3193, 2.3192, 2.319]}, \"token.table\": {\"Topic\": [2, 2, 1, 6, 8, 3, 3, 10, 9, 3, 6, 9, 7, 4, 7, 1, 8, 1, 2, 2, 4, 4, 6, 6, 4, 3, 9, 8, 3, 1, 4, 5, 10, 8, 8, 4, 10, 9, 9, 10, 8, 5, 5, 8, 8, 8, 10, 10, 9, 10, 5, 5, 4, 10, 6, 4, 4, 6, 3, 6, 5, 6, 5, 9, 9, 6, 8, 10, 5, 8, 1, 2, 9, 5, 6, 4, 10, 2, 2, 4, 5, 10, 2, 5, 6, 7, 1, 9, 9, 2, 3, 9, 9, 3, 6, 1, 2, 4, 5, 8, 2, 7, 2, 9, 3, 2, 2, 9, 5, 5, 10, 1, 10, 1, 2, 7, 7, 4, 1, 7, 10, 4, 4, 4, 6, 6, 3, 9, 2, 2, 9, 10, 7, 5, 8, 7, 6, 8, 5, 2, 4, 8, 5, 1, 9, 1, 2, 6, 10, 2, 7, 9, 1, 1, 7, 4, 3, 10, 3, 6, 3, 8, 10, 3, 10, 8, 3, 1, 8, 5, 6, 9, 9, 4, 9, 2, 3, 8, 5, 1, 5, 6, 2, 6, 2, 10, 6, 3, 7, 7, 1, 10, 1, 7, 3, 3, 8, 1, 6, 10, 8, 9, 1, 10, 2, 1, 7, 1, 7, 3, 6, 4, 1, 1, 10, 7, 7, 10, 8, 9, 7, 4, 4, 3, 3, 9, 7, 6, 4, 9, 10, 5, 4, 1, 1, 3, 10, 1, 5, 5, 5, 2, 5, 7, 2, 1, 4, 8, 4, 10, 8, 6, 9, 5, 9, 2, 7, 4, 2, 3, 2, 1, 9, 9, 8, 5, 1, 7, 8, 8, 5, 4, 1, 1, 10, 4, 6, 6, 3, 4, 3, 7, 7, 7, 6, 8, 6, 3, 8, 6, 4, 8, 6, 1, 7, 9, 3, 3, 2, 10, 2, 2, 5, 7, 7, 5, 3, 3, 7, 9], \"Freq\": [0.9902542840123341, 0.9931800398447618, 0.9919953062492085, 0.9949715970044591, 0.9924440169483213, 0.9948486865109496, 0.9965985202783045, 0.9873114495479318, 0.9941157548102715, 0.9954505650276416, 0.9950784569007161, 0.9836567331542041, 0.995052154250997, 0.9919333234339986, 0.985282905761334, 0.9906875547761205, 0.9957158848462327, 0.9923204596728112, 0.9968636046363911, 0.9918555582873345, 0.9939284220278918, 0.9965717583152588, 0.9918891235092236, 0.9915974499380128, 0.9994531981382174, 0.9962498374232289, 0.9904014429106948, 0.9970618693391247, 0.9917522052037331, 0.9909131570456885, 0.9870733143360185, 0.9884368280853258, 0.9815123115801329, 0.9848679908052309, 0.9906455504193122, 0.991218348769837, 0.9921478974848341, 0.9891516353628927, 0.9886620399590955, 0.9902358948286849, 0.9946143651572403, 0.9977573620242598, 0.9904709719058594, 0.9958185936754844, 0.9930708149368453, 0.9921401857013996, 0.9858182243144975, 0.9963188656015951, 0.9977734375808095, 0.9926552611950594, 0.9833553595331873, 0.9912845652176546, 0.9952881768551529, 0.9794878809224714, 0.9989687094033297, 0.9966879350233331, 0.9951749083779587, 0.9947998381988525, 0.9969840786174166, 0.9919271084202667, 0.995587172887096, 0.9894432498826703, 0.9940524370892534, 0.9973814329713497, 0.9918923000085828, 0.988441521647701, 0.9926680240875062, 0.9838485878459726, 0.9963946571635982, 0.9884892664612914, 0.6931196723797788, 0.306481487786977, 0.9831935870414267, 0.9942891121830951, 0.991483508297309, 0.9850101826873725, 0.9957527662815401, 0.9887907525716395, 0.9943261840853586, 0.9864517114698808, 0.9967387791899194, 0.9899020478361193, 0.9902088821500723, 0.9968716685924052, 0.9828032644493739, 0.9960026330113402, 0.9961280419197478, 0.9858162106602019, 0.9920216107816924, 0.9958483036909148, 0.7334200827391231, 0.2642955253113957, 0.9974271226504846, 0.9988397111718803, 0.9893270835674058, 0.988531183490844, 0.9945613556347884, 0.9920908192188755, 0.9925861743329657, 0.9961426990581763, 0.9863335330137656, 0.9956619912498476, 0.9897962582436199, 0.9984722298311005, 0.9849403536952059, 0.9930306118110883, 0.9908401443288671, 0.9870824971052085, 0.9986160364662104, 0.9877580963175112, 0.9915840697202354, 0.9949670076049963, 0.9795226054290064, 0.7336560142313462, 0.26202000508262363, 0.9941469635505726, 0.9908177337479603, 0.9957957684213659, 0.9975998032768851, 0.9933832560288632, 0.9891792703595294, 0.9984723014644705, 0.9914179264204361, 0.9966246814672223, 0.9972544122786696, 0.9776756112524496, 0.990960931957639, 0.9896955768224188, 0.9912455418669611, 0.9910911674315492, 0.997963568223435, 0.9846991409905048, 0.9982162598822316, 0.9921448186806774, 0.993173522938213, 0.9803293610723716, 0.9945673287830774, 0.9951983770639047, 0.9969372944522658, 0.9947190254637481, 0.9882703310059121, 0.9887679849095333, 0.9841895585757935, 0.9971828233191483, 0.994841818424274, 0.9969575633837201, 0.9910770422612779, 0.9970999093173369, 0.9925593337601931, 0.9948399602259572, 0.9908963157553967, 0.9866452915569889, 0.993280421971512, 0.9945871580629119, 0.98180873791901, 0.9962998221246026, 0.9986741940012738, 0.984160344519195, 0.9880440660196438, 0.9812505350436865, 0.9928468219566694, 0.9953492124095302, 0.9916563147140034, 0.9989503449883805, 0.996862296787104, 0.9909243478152427, 0.991428876451043, 0.9908509158609005, 0.9922773519420724, 0.9978880958347442, 0.9905030276809277, 0.9945027928656958, 0.9909462271615497, 0.9977312550710258, 0.9900419571761966, 0.9928566562671621, 0.9923265107066223, 0.998017392480274, 0.9980509060500806, 0.9989579052286393, 0.9957058442870271, 0.9979386692802739, 0.995779473881202, 0.996899809730747, 0.9961597014951714, 0.994923805109836, 0.9926899902342421, 0.9935357522288937, 0.9962525286137544, 0.9934687711845445, 0.9919179505930904, 0.9927134846530875, 0.9934611246124568, 0.9933339514412357, 0.9956665467052496, 0.9954206385038763, 0.9885504467812666, 0.9955583513944131, 0.9955499711333639, 0.9964934830639423, 0.9910780283674158, 0.9970707231244733, 0.9913530618041826, 0.9973769958253867, 0.9875460972904173, 0.9956907574260474, 0.9910865658060953, 0.9873002316695242, 0.9836621475085289, 0.9931720522171362, 0.9908026467234081, 0.9957023121374985, 0.9913131758901556, 0.9972027185002982, 0.9835539840007514, 0.9884423384605349, 0.9970863301233083, 0.9913409331087587, 0.9926359139196173, 0.9867208299978697, 0.9921837256914089, 0.9939568754862373, 0.9883996290440086, 0.987323099560121, 0.9944565884770052, 0.9919573218967671, 0.9926359254357303, 0.9955389614227715, 0.9947376877313118, 0.9887170702697399, 0.9891114376639909, 0.9891802740600433, 0.9960116133801103, 0.9923311448306534, 0.9954246983155236, 0.9928992457285796, 0.9953821859923216, 0.993056400198526, 0.9975361540210087, 0.9956159014601266, 0.9908270798712658, 0.9967735487057297, 0.988242441201414, 0.9979163022563107, 0.9916684538671093, 0.9958463729047797, 0.9943803085537208, 0.9959081467288959, 0.9982693630194807, 0.9961265062750019, 0.9980373330764998, 0.9939392937295113, 0.9906615515867658, 0.9904583064803766, 0.9880788335618256, 0.9954838260914586, 0.9948187115741666, 0.9852567935200274, 0.9990779683409075, 0.9896891831441936, 0.9957657706850032, 0.6994028665276675, 0.29898137805762887, 0.9933694726654614, 0.9972261567404125, 0.980701645025412, 0.9927510221615199, 0.9967479063660581, 0.9880730075053119, 0.9870277877704506, 0.9859353529404136, 0.9984015392384787, 0.9906844624447949, 0.9933761920645193, 0.9964970515248883, 0.7975030330121569, 0.20158613251305074, 0.9971515607570873, 0.9906843372797313, 0.9934836704604669, 0.9948818659167381, 0.9967272484508597, 0.9907177381855209, 0.9910228365160489, 0.989592301925417, 0.9873696911852469, 0.99413305710724, 0.9947218686477511, 0.9925074262940519, 0.9945588759034147, 0.9899771284301928, 0.9986849682361877, 0.9893611602351023, 0.9974409621309378, 0.9915977148101549, 0.9961965940730507, 0.9984329798997995, 0.9925394906915241, 0.9857980783540278, 0.9980309028418741, 0.9941337464098189, 0.994491929010325, 0.995694489537303, 0.991432403050386, 0.9909111110343809, 0.9979758586045042, 0.9944115528446111, 0.994818992792266, 0.9896185948121733, 0.9937621315244699], \"Term\": [\"10 min\", \"10 minute\", \"15 min\", \"15 minute\", \"20 min\", \"20 minute\", \"24 hour\", \"25 minute\", \"30 min\", \"30 minute\", \"40 minute\", \"45 min\", \"45 minute\", \"average food\", \"avoid cost\", \"avoid place\", \"awful service\", \"bad attitude\", \"bad customer\", \"bad customer service\", \"bad experience\", \"bad food\", \"bad meal\", \"bad review\", \"bad service\", \"bbq chicken\", \"black bean\", \"bloody mary\", \"bottle wine\", \"buffalo chicken\", \"butter chicken\", \"carne asada\", \"charge extra\", \"check order\", \"chicken beef\", \"chicken breast\", \"chicken burrito\", \"chicken chicken\", \"chicken curry\", \"chicken dry\", \"chicken finger\", \"chicken fry\", \"chicken fry steak\", \"chicken katsu\", \"chicken noodle\", \"chicken pizza\", \"chicken rice\", \"chicken salad\", \"chicken sandwich\", \"chicken shawarma\", \"chicken soup\", \"chicken taco\", \"chicken tender\", \"chicken tikka\", \"chicken waffle\", \"chicken wing\", \"chicken wrap\", \"chinese food\", \"close monday\", \"close renovation\", \"close sunday\", \"close tuesday\", \"cold beer\", \"cold brew\", \"cold food\", \"crab leg\", \"crazy busy\", \"cream cheese\", \"credit card\", \"curry chicken\", \"customer service\", \"customer service\", \"decent food\", \"dim sum\", \"din area\", \"din room\", \"dirty din\", \"dont afraid\", \"dont bother\", \"dont care\", \"dont eat\", \"dont expect\", \"dont forget\", \"dont know\", \"dont let\", \"dont like\", \"dont order\", \"dont recommend\", \"dont think\", \"dont want\", \"dont waste\", \"dont waste\", \"dont waste money\", \"dont waste time\", \"expect wait\", \"extremely rude\", \"extremely slow\", \"fast food\", \"feel like\", \"food average\", \"food awful\", \"food bad\", \"food bland\", \"food cold\", \"food court\", \"food decent\", \"food dont\", \"food drink\", \"food good\", \"food good service\", \"food great\", \"food horrible\", \"food make\", \"food mediocre\", \"food mediocre\", \"food ok\", \"food order\", \"food place\", \"food poison\", \"food price\", \"food quality\", \"food service\", \"food suck\", \"food taste\", \"food terrible\", \"food terrible service\", \"food worth\", \"french fry\", \"french toast\", \"friday night\", \"fry chicken\", \"fry cold\", \"fry rice\", \"fry steak\", \"garlic chicken\", \"gas station\", \"good food\", \"good place\", \"good service\", \"great food\", \"great service\", \"green bean\", \"green chili\", \"green tea\", \"grill chicken\", \"half half\", \"half hour\", \"half price\", \"happy hour\", \"hide gem\", \"highly recommend\", \"holy crap\", \"horrible customer\", \"horrible customer service\", \"horrible experience\", \"horrible food\", \"horrible service\", \"hot sauce\", \"hour close\", \"hour food\", \"hour half\", \"hour wait\", \"ice cold\", \"ice cream\", \"ice tea\", \"isnt bad\", \"jerk chicken\", \"la vega\", \"late lunch\", \"late night\", \"like place\", \"limit time\", \"line long\", \"little bite\", \"little pricey\", \"little slow\", \"location close\", \"long line\", \"long time\", \"long wait\", \"look like\", \"love chicken\", \"love place\", \"lunch special\", \"lunch time\", \"mac cheese\", \"make reservation\", \"make sure\", \"mediocre food\", \"menu item\", \"mess order\", \"mexican food\", \"military discount\", \"milk tea\", \"min wait\", \"minute wait\", \"noodle soup\", \"open late\", \"orange chicken\", \"order chicken\", \"order food\", \"order wrong\", \"pad thai\", \"park lot\", \"people work\", \"place close\", \"place dirty\", \"place eat\", \"place food\", \"place order\", \"place small\", \"place suck\", \"poor customer\", \"poor customer service\", \"poor food\", \"poor quality\", \"poor service\", \"portion small\", \"prepare wait\", \"prime rib\", \"quality food\", \"really bad\", \"really good\", \"really slow\", \"recommend place\", \"restaurant close\", \"rude employee\", \"rude service\", \"rude staff\", \"salad bar\", \"salad chicken\", \"saturday night\", \"save money\", \"say close\", \"say open\", \"second time\", \"secret menu\", \"service awful\", \"service bad\", \"service bad food\", \"service dont\", \"service food\", \"service good\", \"service horrible\", \"service mediocre\", \"service poor\", \"service really\", \"service rude\", \"service slow\", \"service suck\", \"service terrible\", \"service wait\", \"service worse\", \"shop center\", \"sick eat\", \"sit bar\", \"slow drive\", \"slow food\", \"slow service\", \"slow slow\", \"small place\", \"small portion\", \"small portion\", \"smell like\", \"spicy chicken\", \"spring roll\", \"staff rude\", \"stay away\", \"super slow\", \"taco bell\", \"taco tuesday\", \"taste like\", \"terrible customer\", \"terrible customer service\", \"terrible food\", \"terrible service\", \"terrible service\", \"theyre close\", \"theyre open\", \"time food\", \"time money\", \"time order\", \"time wait\", \"unless want\", \"wait 10\", \"wait 15\", \"wait 20\", \"wait 30\", \"wait food\", \"wait hour\", \"wait line\", \"wait long\", \"wait table\", \"wait time\", \"wasnt bad\", \"waste money\", \"waste time\", \"waste time money\", \"way long\", \"wont disappoint\", \"worst customer\", \"worst customer service\", \"worst experience\", \"worst food\", \"worst place\", \"worst service\", \"worth money\", \"worth price\", \"worth wait\", \"wrong order\"]}, \"R\": 30, \"lambda.step\": 0.01, \"plot.opts\": {\"xlab\": \"PC1\", \"ylab\": \"PC2\"}, \"topic.order\": [9, 5, 8, 3, 7, 4, 6, 1, 10, 2]};\n",
       "\n",
       "function LDAvis_load_lib(url, callback){\n",
       "  var s = document.createElement('script');\n",
       "  s.src = url;\n",
       "  s.async = true;\n",
       "  s.onreadystatechange = s.onload = callback;\n",
       "  s.onerror = function(){console.warn(\"failed to load library \" + url);};\n",
       "  document.getElementsByTagName(\"head\")[0].appendChild(s);\n",
       "}\n",
       "\n",
       "if(typeof(LDAvis) !== \"undefined\"){\n",
       "   // already loaded: just create the visualization\n",
       "   !function(LDAvis){\n",
       "       new LDAvis(\"#\" + \"ldavis_el1520012492917367841523809130\", ldavis_el1520012492917367841523809130_data);\n",
       "   }(LDAvis);\n",
       "}else if(typeof define === \"function\" && define.amd){\n",
       "   // require.js is available: use it to load d3/LDAvis\n",
       "   require.config({paths: {d3: \"https://cdnjs.cloudflare.com/ajax/libs/d3/3.5.5/d3.min\"}});\n",
       "   require([\"d3\"], function(d3){\n",
       "      window.d3 = d3;\n",
       "      LDAvis_load_lib(\"https://cdn.rawgit.com/bmabey/pyLDAvis/files/ldavis.v1.0.0.js\", function(){\n",
       "        new LDAvis(\"#\" + \"ldavis_el1520012492917367841523809130\", ldavis_el1520012492917367841523809130_data);\n",
       "      });\n",
       "    });\n",
       "}else{\n",
       "    // require.js not available: dynamically load d3 & LDAvis\n",
       "    LDAvis_load_lib(\"https://cdnjs.cloudflare.com/ajax/libs/d3/3.5.5/d3.min.js\", function(){\n",
       "         LDAvis_load_lib(\"https://cdn.rawgit.com/bmabey/pyLDAvis/files/ldavis.v1.0.0.js\", function(){\n",
       "                 new LDAvis(\"#\" + \"ldavis_el1520012492917367841523809130\", ldavis_el1520012492917367841523809130_data);\n",
       "            })\n",
       "         });\n",
       "}\n",
       "</script>"
      ],
      "text/plain": [
       "PreparedData(topic_coordinates=               x          y  topics  cluster       Freq\n",
       "topic                                                  \n",
       "8      32.420952   8.115230       1        1  10.381030\n",
       "4       0.648955  71.707100       2        1  10.123143\n",
       "7      71.019684   9.971006       3        1  10.102106\n",
       "2       3.785981  33.185135       4        1  10.032281\n",
       "6     -42.666500  -9.222070       5        1  10.021027\n",
       "3      -3.621689 -43.526516       6        1   9.975801\n",
       "5      -3.632402  -4.171708       7        1   9.975208\n",
       "0     -36.584400  35.804413       8        1   9.944024\n",
       "9      44.391380  50.615383       9        1   9.753967\n",
       "1      40.235809 -31.591665      10        1   9.691414, topic_info=                   Term         Freq        Total Category  logprob  loglift\n",
       "7055   customer service  1272.000000  1272.000000  Default  30.0000  30.0000\n",
       "27458      slow service   732.000000   732.000000  Default  29.0000  29.0000\n",
       "1892        bad service   682.000000   682.000000  Default  28.0000  28.0000\n",
       "13883  horrible service   629.000000   629.000000  Default  27.0000  27.0000\n",
       "11915       fry chicken   537.000000   537.000000  Default  26.0000  26.0000\n",
       "...                 ...          ...          ...      ...      ...      ...\n",
       "14049         hot sauce    58.131125    58.933486  Topic10  -6.1379   2.3202\n",
       "24899     salad chicken    55.814126    56.616472  Topic10  -6.1786   2.3197\n",
       "11237         food make    54.326500    55.128896  Topic10  -6.2056   2.3193\n",
       "11955          fry cold    54.036678    54.839085  Topic10  -6.2109   2.3192\n",
       "5269      chicken tikka    53.307603    54.109909  Topic10  -6.2245   2.3190\n",
       "\n",
       "[338 rows x 6 columns], token_table=       Topic      Freq           Term\n",
       "term                                 \n",
       "35         2  0.990254         10 min\n",
       "45         2  0.993180      10 minute\n",
       "175        1  0.991995         15 min\n",
       "185        6  0.994972      15 minute\n",
       "249        8  0.992444         20 min\n",
       "...      ...       ...            ...\n",
       "34008      5  0.997976  worst service\n",
       "34109      3  0.994412    worth money\n",
       "34116      3  0.994819    worth price\n",
       "34137      7  0.989619     worth wait\n",
       "34300      9  0.993762    wrong order\n",
       "\n",
       "[310 rows x 3 columns], R=30, lambda_step=0.01, plot_opts={'xlab': 'PC1', 'ylab': 'PC2'}, topic_order=[9, 5, 8, 3, 7, 4, 6, 1, 10, 2])"
      ]
     },
     "execution_count": 27,
     "metadata": {},
     "output_type": "execute_result"
    }
   ],
   "source": [
    "import pyLDAvis.sklearn\n",
    "from pylab import bone, pcolor, colorbar, plot, show, rcParams, savefig\n",
    "pyLDAvis.enable_notebook()\n",
    "\n",
    "bi_dash = pyLDAvis.sklearn.prepare(bi_lda, bigram_vectorized, bivectorizer, mds='tsne')\n",
    "bi_dash"
   ]
  },
  {
   "cell_type": "code",
   "execution_count": null,
   "metadata": {},
   "outputs": [
    {
     "name": "stdout",
     "output_type": "stream",
     "text": [
      "\n",
      "Note: if you're in the IPython notebook, pyLDAvis.show() is not the best command\n",
      "      to use. Consider using pyLDAvis.display(), or pyLDAvis.enable_notebook().\n",
      "      See more information at http://pyLDAvis.github.io/quickstart.html .\n",
      "\n",
      "You must interrupt the kernel to end this command\n",
      "\n",
      "Serving to http://127.0.0.1:8891/    [Ctrl-C to exit]\n"
     ]
    },
    {
     "name": "stderr",
     "output_type": "stream",
     "text": [
      "127.0.0.1 - - [02/Aug/2020 16:14:14] \"GET / HTTP/1.1\" 200 -\n",
      "127.0.0.1 - - [02/Aug/2020 16:14:14] \"GET /LDAvis.css HTTP/1.1\" 200 -\n",
      "127.0.0.1 - - [02/Aug/2020 16:14:14] \"GET /d3.js HTTP/1.1\" 200 -\n",
      "127.0.0.1 - - [02/Aug/2020 16:14:14] \"GET /LDAvis.js HTTP/1.1\" 200 -\n",
      "127.0.0.1 - - [02/Aug/2020 16:14:14] code 404, message Not Found\n",
      "127.0.0.1 - - [02/Aug/2020 16:14:14] \"GET /favicon.ico HTTP/1.1\" 404 -\n"
     ]
    }
   ],
   "source": [
    "pyLDAvis.show(bi_dash)\n",
    "\n"
   ]
  }
 ],
 "metadata": {
  "kernelspec": {
   "display_name": "Python 3",
   "language": "python",
   "name": "python3"
  },
  "language_info": {
   "codemirror_mode": {
    "name": "ipython",
    "version": 3
   },
   "file_extension": ".py",
   "mimetype": "text/x-python",
   "name": "python",
   "nbconvert_exporter": "python",
   "pygments_lexer": "ipython3",
   "version": "3.8.3"
  }
 },
 "nbformat": 4,
 "nbformat_minor": 4
}
