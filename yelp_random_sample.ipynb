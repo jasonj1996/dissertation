{
 "cells": [
  {
   "cell_type": "markdown",
   "metadata": {},
   "source": [
    "First Step: Convert json files to csv"
   ]
  },
  {
   "cell_type": "code",
   "execution_count": 1,
   "metadata": {},
   "outputs": [],
   "source": [
    "import numpy as np \n",
    "import pandas as pd \n",
    "import time"
   ]
  },
  {
   "cell_type": "code",
   "execution_count": 2,
   "metadata": {},
   "outputs": [],
   "source": [
    "import json\n",
    "\n",
    "def init_ds(json):\n",
    "    ds= {}\n",
    "    keys = json.keys()\n",
    "    for k in keys:\n",
    "        ds[k]= []\n",
    "    return ds, keys\n",
    "\n",
    "def read_json(file):\n",
    "    dataset = {}\n",
    "    keys = []\n",
    "    with open(file,encoding=\"utf8\") as file_lines:\n",
    "        for count, line in enumerate(file_lines):\n",
    "            data = json.loads(line.strip())\n",
    "            if count ==0:\n",
    "                dataset, keys = init_ds(data)\n",
    "            for k in keys:\n",
    "                dataset[k].append(data[k])\n",
    "                \n",
    "        return pd.DataFrame(dataset)"
   ]
  },
  {
   "cell_type": "code",
   "execution_count": 3,
   "metadata": {
    "scrolled": true
   },
   "outputs": [
    {
     "name": "stdout",
     "output_type": "stream",
     "text": [
      "Wall time: 3.12 s\n"
     ]
    }
   ],
   "source": [
    "%%time\n",
    "yelp_business_raw = read_json('./raw_json_files/yelp_academic_dataset_business.json')"
   ]
  },
  {
   "cell_type": "code",
   "execution_count": 4,
   "metadata": {},
   "outputs": [
    {
     "name": "stdout",
     "output_type": "stream",
     "text": [
      "Wall time: 1.68 s\n"
     ]
    }
   ],
   "source": [
    "%%time\n",
    "yelp_checkin_raw = read_json('./raw_json_files/yelp_academic_dataset_checkin.json')"
   ]
  },
  {
   "cell_type": "code",
   "execution_count": 5,
   "metadata": {
    "scrolled": true
   },
   "outputs": [
    {
     "name": "stdout",
     "output_type": "stream",
     "text": [
      "Wall time: 1min 38s\n"
     ]
    }
   ],
   "source": [
    "%%time\n",
    "yelp_review_raw = read_json('./raw_json_files/yelp_academic_dataset_review.json')"
   ]
  },
  {
   "cell_type": "code",
   "execution_count": 6,
   "metadata": {},
   "outputs": [
    {
     "name": "stdout",
     "output_type": "stream",
     "text": [
      "Wall time: 7.83 s\n"
     ]
    }
   ],
   "source": [
    "%%time\n",
    "yelp_tip_raw = read_json('./raw_json_files/yelp_academic_dataset_tip.json')"
   ]
  },
  {
   "cell_type": "code",
   "execution_count": 7,
   "metadata": {},
   "outputs": [
    {
     "name": "stdout",
     "output_type": "stream",
     "text": [
      "Wall time: 46.9 s\n"
     ]
    }
   ],
   "source": [
    "%%time\n",
    "yelp_user_raw = read_json('./raw_json_files/yelp_academic_dataset_user.json')"
   ]
  },
  {
   "cell_type": "code",
   "execution_count": 8,
   "metadata": {},
   "outputs": [],
   "source": [
    "#generate 20% of random samples of review data\n",
    "#review_to_csv = yelp_review_raw.sample(frac=0.2)\n",
    "\n",
    "# business_to_csv = yelp_business_raw.sample(frac=1)\n",
    "# checkin_to_csv = yelp_checkin_raw.sample(frac=1)\n",
    "# tip_to_csv = yelp_tip_raw.sample(frac=1)\n",
    "# user_to_csv = yelp_user_raw.sample(frac=1)"
   ]
  },
  {
   "cell_type": "code",
   "execution_count": 9,
   "metadata": {},
   "outputs": [],
   "source": [
    "yelp_review_raw.to_csv('./sample_csv/review_sample.csv', encoding='utf-8', index=False)\n",
    "\n",
    "yelp_business_raw.to_csv('./sample_csv/business_sample.csv', encoding='utf-8', index=False)\n",
    "yelp_checkin_raw.to_csv('./sample_csv/checkin_sample.csv', encoding='utf-8', index=False)\n",
    "yelp_tip_raw.to_csv('./sample_csv/tip_sample.csv', encoding='utf-8', index=False)\n",
    "yelp_user_raw.to_csv('./sample_csv/user_sample.csv', encoding='utf-8', index=False)"
   ]
  },
  {
   "cell_type": "code",
   "execution_count": null,
   "metadata": {},
   "outputs": [],
   "source": []
  }
 ],
 "metadata": {
  "kernelspec": {
   "display_name": "Python 3",
   "language": "python",
   "name": "python3"
  },
  "language_info": {
   "codemirror_mode": {
    "name": "ipython",
    "version": 3
   },
   "file_extension": ".py",
   "mimetype": "text/x-python",
   "name": "python",
   "nbconvert_exporter": "python",
   "pygments_lexer": "ipython3",
   "version": "3.7.4"
  }
 },
 "nbformat": 4,
 "nbformat_minor": 4
}
